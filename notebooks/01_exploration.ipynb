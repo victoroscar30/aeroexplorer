{
 "cells": [
  {
   "cell_type": "code",
   "execution_count": 4,
   "id": "e203af70",
   "metadata": {},
   "outputs": [
    {
     "name": "stdout",
     "output_type": "stream",
     "text": [
      "   icao24  callsign origin_country  time_position  last_contact  longitude  \\\n",
      "0  ae1fa7            United States   1.756420e+09    1756420246  -116.7198   \n",
      "1  ab1644  UAL2116   United States   1.756420e+09    1756420249   -82.0330   \n",
      "2  80162c  AXB252            India   1.756420e+09    1756420247    56.8494   \n",
      "3  aa9321  UAL57     United States   1.756420e+09    1756420242   -74.1685   \n",
      "4  ab6fdd  AAL1751   United States   1.756420e+09    1756420249   -77.9467   \n",
      "\n",
      "   latitude  baro_altitude  on_ground  velocity  true_track  vertical_rate  \n",
      "0   43.4592        1074.42      False     61.72      111.00           0.65  \n",
      "1   38.1883       10965.18      False    200.41      242.65          -0.33  \n",
      "2   25.0857        7216.14      False    227.19      112.50           5.85  \n",
      "3   40.7009            NaN       True      0.00       95.62            NaN  \n",
      "4   32.5338        9144.00      False    239.86      195.17           0.00  \n"
     ]
    }
   ],
   "source": [
    "import pandas as pd\n",
    "from opensky_api import OpenSkyApi\n",
    "\n",
    "# Criar conexão com a API\n",
    "api = OpenSkyApi()\n",
    "\n",
    "# Obter estados das aeronaves\n",
    "states = api.get_states()\n",
    "\n",
    "# Converter em lista de dicionários para facilitar\n",
    "data = []\n",
    "for s in states.states:\n",
    "    data.append({\n",
    "        \"icao24\": s.icao24,\n",
    "        \"callsign\": s.callsign,\n",
    "        \"origin_country\": s.origin_country,\n",
    "        \"time_position\": s.time_position,\n",
    "        \"last_contact\": s.last_contact,\n",
    "        \"longitude\": s.longitude,\n",
    "        \"latitude\": s.latitude,\n",
    "        \"baro_altitude\": s.baro_altitude,\n",
    "        \"on_ground\": s.on_ground,\n",
    "        \"velocity\": s.velocity,\n",
    "        \"true_track\": s.true_track,\n",
    "        \"vertical_rate\": s.vertical_rate\n",
    "    })\n",
    "\n",
    "# Criar DataFrame\n",
    "df = pd.DataFrame(data)\n",
    "\n",
    "print(df.head())\n"
   ]
  }
 ],
 "metadata": {
  "kernelspec": {
   "display_name": "my_first_env",
   "language": "python",
   "name": "python3"
  },
  "language_info": {
   "codemirror_mode": {
    "name": "ipython",
    "version": 3
   },
   "file_extension": ".py",
   "mimetype": "text/x-python",
   "name": "python",
   "nbconvert_exporter": "python",
   "pygments_lexer": "ipython3",
   "version": "3.11.13"
  }
 },
 "nbformat": 4,
 "nbformat_minor": 5
}
